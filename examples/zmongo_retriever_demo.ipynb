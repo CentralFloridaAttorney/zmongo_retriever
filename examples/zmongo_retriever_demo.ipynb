{
 "cells": [
  {
   "cell_type": "markdown",
   "id": "a9ecf31a37a9be31",
   "metadata": {
    "collapsed": false
   },
   "source": [
    "This example requires you to get an OPENAI_API_KEY. \n"
   ]
  },
  {
   "cell_type": "code",
   "execution_count": 1,
   "id": "d796788450209e60",
   "metadata": {
    "ExecuteTime": {
     "end_time": "2024-03-25T14:44:38.377665Z",
     "start_time": "2024-03-25T14:44:38.374672Z"
    },
    "collapsed": false
   },
   "outputs": [],
   "source": [
    "from zmongo_retriever.zmongo_toolbag.zmongo.BAK import ZMongoRetriever\n",
    "from langchain_core.prompts import PromptTemplate\n",
    "from langchain_community.llms.llamacpp import LlamaCpp\n",
    "from langchain.chains import load_summarize_chain\n",
    "from zmongo_retriever.zmongo_toolbag.zmongo import zconstants"
   ]
  },
  {
   "cell_type": "markdown",
   "id": "2b41e077475cc5f0",
   "metadata": {
    "collapsed": false
   },
   "source": [
    "Set your variables"
   ]
  },
  {
   "cell_type": "code",
   "execution_count": 2,
   "id": "ed90eef6ccf7732c",
   "metadata": {
    "ExecuteTime": {
     "end_time": "2024-03-25T14:45:43.814752Z",
     "start_time": "2024-03-25T14:45:43.810543Z"
    },
    "collapsed": false
   },
   "outputs": [
    {
     "name": "stdout",
     "output_type": "stream",
     "text": [
      "/media/overlordx/DATA/_models/Mistral-7B-Instruct-v0.1-GGUF/mistral-7b-instruct-v0.1.Q5_0.gguf\n"
     ]
    }
   ],
   "source": [
    "model_path = zconstants.MODEL_PATH\n",
    "print(model_path)\n",
    " # Your .gguf file path\n",
    "mongo_db_name = zconstants.MONGO_DATABASE_NAME # Your MongoDB database name\n",
    "mongo_uri = zconstants.MONGO_URI # Your mongo_uri\n",
    "this_collection_name = zconstants.DEFAULT_COLLECTION_NAME  # Your MongoDB collection\n",
    "this_page_content_key = 'casebody.data.opinions.0.text'  # Specify the field to use as page_content\n",
    "this_document_id = '65f1b6beae7cd4d4d1d3ae8d'  # Example ObjectId('_id') value"
   ]
  },
  {
   "cell_type": "markdown",
   "id": "a9b32bf262a89edc",
   "metadata": {
    "collapsed": false
   },
   "source": [
    "Use ZMongoRetriever to split the text from the page_content_field into LangChain Documents"
   ]
  },
  {
   "cell_type": "code",
   "execution_count": 3,
   "id": "a2ec06cdd1129dbd",
   "metadata": {
    "ExecuteTime": {
     "end_time": "2024-03-25T14:44:44.282053Z",
     "start_time": "2024-03-25T14:44:44.202381Z"
    },
    "collapsed": false
   },
   "outputs": [
    {
     "name": "stdout",
     "output_type": "stream",
     "text": [
      "[[<zmongo_retriever.Document object at 0x72e5d9bfc070>, <zmongo_retriever.Document object at 0x72e5d9bfc0d0>, <zmongo_retriever.Document object at 0x72e5d9bfc130>, <zmongo_retriever.Document object at 0x72e5d9bfc190>, <zmongo_retriever.Document object at 0x72e5d9bfc1f0>, <zmongo_retriever.Document object at 0x72e5d9bfc250>, <zmongo_retriever.Document object at 0x72e5d9bfc2b0>, <zmongo_retriever.Document object at 0x72e5d9bfc310>]]\n"
     ]
    }
   ],
   "source": [
    "# larger values for chunk_size may solve problems with exceeding your token limit\n",
    "retriever = ZMongoRetriever(mongo_uri=mongo_uri, chunk_size=1000, collection_name=this_collection_name, page_content_field=this_page_content_field)\n",
    "documents_by_id = retriever.invoke(ojbect_ids=this_document_id, page_content_key=this_page_content_key)\n",
    "print(documents_by_id)"
   ]
  },
  {
   "cell_type": "markdown",
   "id": "f2069a8a7a9b5a85",
   "metadata": {
    "collapsed": false
   },
   "source": [
    "If the output from above == [] then you have a problem with your variables."
   ]
  },
  {
   "cell_type": "markdown",
   "id": "a6f17e023b1b92d",
   "metadata": {
    "collapsed": false
   },
   "source": [
    "Use LlamaCPP to summarize the chunked output."
   ]
  },
  {
   "cell_type": "code",
   "execution_count": 4,
   "id": "f3a44193a4d2cdd5",
   "metadata": {
    "ExecuteTime": {
     "end_time": "2024-03-25T14:45:12.482634Z",
     "start_time": "2024-03-25T14:45:12.451280Z"
    },
    "collapsed": false
   },
   "outputs": [
    {
     "name": "stderr",
     "output_type": "stream",
     "text": [
      "llama_model_loader: loaded meta data with 20 key-value pairs and 291 tensors from /media/overlordx/DATA/_models/Mistral-7B-Instruct-v0.1-GGUF/mistral-7b-instruct-v0.1.Q5_0.gguf (version GGUF V2)\n",
      "llama_model_loader: Dumping metadata keys/values. Note: KV overrides do not apply in this output.\n",
      "llama_model_loader: - kv   0:                       general.architecture str              = llama\n",
      "llama_model_loader: - kv   1:                               general.name str              = mistralai_mistral-7b-instruct-v0.1\n",
      "llama_model_loader: - kv   2:                       llama.context_length u32              = 32768\n",
      "llama_model_loader: - kv   3:                     llama.embedding_length u32              = 4096\n",
      "llama_model_loader: - kv   4:                          llama.block_count u32              = 32\n",
      "llama_model_loader: - kv   5:                  llama.feed_forward_length u32              = 14336\n",
      "llama_model_loader: - kv   6:                 llama.rope.dimension_count u32              = 128\n",
      "llama_model_loader: - kv   7:                 llama.attention.head_count u32              = 32\n",
      "llama_model_loader: - kv   8:              llama.attention.head_count_kv u32              = 8\n",
      "llama_model_loader: - kv   9:     llama.attention.layer_norm_rms_epsilon f32              = 0.000010\n",
      "llama_model_loader: - kv  10:                       llama.rope.freq_base f32              = 10000.000000\n",
      "llama_model_loader: - kv  11:                          general.file_type u32              = 8\n",
      "llama_model_loader: - kv  12:                       tokenizer.ggml.model str              = llama\n",
      "llama_model_loader: - kv  13:                      tokenizer.ggml.tokens arr[str,32000]   = [\"<unk>\", \"<s>\", \"</s>\", \"<0x00>\", \"<...\n",
      "llama_model_loader: - kv  14:                      tokenizer.ggml.scores arr[f32,32000]   = [0.000000, 0.000000, 0.000000, 0.0000...\n",
      "llama_model_loader: - kv  15:                  tokenizer.ggml.token_type arr[i32,32000]   = [2, 3, 3, 6, 6, 6, 6, 6, 6, 6, 6, 6, ...\n",
      "llama_model_loader: - kv  16:                tokenizer.ggml.bos_token_id u32              = 1\n",
      "llama_model_loader: - kv  17:                tokenizer.ggml.eos_token_id u32              = 2\n",
      "llama_model_loader: - kv  18:            tokenizer.ggml.unknown_token_id u32              = 0\n",
      "llama_model_loader: - kv  19:               general.quantization_version u32              = 2\n",
      "llama_model_loader: - type  f32:   65 tensors\n",
      "llama_model_loader: - type q5_0:  225 tensors\n",
      "llama_model_loader: - type q6_K:    1 tensors\n",
      "llm_load_vocab: special tokens definition check successful ( 259/32000 ).\n",
      "llm_load_print_meta: format           = GGUF V2\n",
      "llm_load_print_meta: arch             = llama\n",
      "llm_load_print_meta: vocab type       = SPM\n",
      "llm_load_print_meta: n_vocab          = 32000\n",
      "llm_load_print_meta: n_merges         = 0\n",
      "llm_load_print_meta: n_ctx_train      = 32768\n",
      "llm_load_print_meta: n_embd           = 4096\n",
      "llm_load_print_meta: n_head           = 32\n",
      "llm_load_print_meta: n_head_kv        = 8\n",
      "llm_load_print_meta: n_layer          = 32\n",
      "llm_load_print_meta: n_rot            = 128\n",
      "llm_load_print_meta: n_embd_head_k    = 128\n",
      "llm_load_print_meta: n_embd_head_v    = 128\n",
      "llm_load_print_meta: n_gqa            = 4\n",
      "llm_load_print_meta: n_embd_k_gqa     = 1024\n",
      "llm_load_print_meta: n_embd_v_gqa     = 1024\n",
      "llm_load_print_meta: f_norm_eps       = 0.0e+00\n",
      "llm_load_print_meta: f_norm_rms_eps   = 1.0e-05\n",
      "llm_load_print_meta: f_clamp_kqv      = 0.0e+00\n",
      "llm_load_print_meta: f_max_alibi_bias = 0.0e+00\n",
      "llm_load_print_meta: n_ff             = 14336\n",
      "llm_load_print_meta: n_expert         = 0\n",
      "llm_load_print_meta: n_expert_used    = 0\n",
      "llm_load_print_meta: pooling type     = 0\n",
      "llm_load_print_meta: rope type        = 0\n",
      "llm_load_print_meta: rope scaling     = linear\n",
      "llm_load_print_meta: freq_base_train  = 10000.0\n",
      "llm_load_print_meta: freq_scale_train = 1\n",
      "llm_load_print_meta: n_yarn_orig_ctx  = 32768\n",
      "llm_load_print_meta: rope_finetuned   = unknown\n",
      "llm_load_print_meta: model type       = 7B\n",
      "llm_load_print_meta: model ftype      = Q5_0\n",
      "llm_load_print_meta: model params     = 7.24 B\n",
      "llm_load_print_meta: model size       = 4.65 GiB (5.52 BPW) \n",
      "llm_load_print_meta: general.name     = mistralai_mistral-7b-instruct-v0.1\n",
      "llm_load_print_meta: BOS token        = 1 '<s>'\n",
      "llm_load_print_meta: EOS token        = 2 '</s>'\n",
      "llm_load_print_meta: UNK token        = 0 '<unk>'\n",
      "llm_load_print_meta: LF token         = 13 '<0x0A>'\n",
      "llm_load_tensors: ggml ctx size =    0.11 MiB\n",
      "llm_load_tensors:        CPU buffer size =  4765.49 MiB\n",
      "...................................................................................................\n",
      "llama_new_context_with_model: n_ctx      = 4096\n",
      "llama_new_context_with_model: freq_base  = 10000.0\n",
      "llama_new_context_with_model: freq_scale = 1\n",
      "llama_kv_cache_init:        CPU KV buffer size =   512.00 MiB\n",
      "llama_new_context_with_model: KV self size  =  512.00 MiB, K (f16):  256.00 MiB, V (f16):  256.00 MiB\n",
      "llama_new_context_with_model:        CPU input buffer size   =   192.08 MiB\n",
      "llama_new_context_with_model:        CPU compute buffer size =  2304.00 MiB\n",
      "llama_new_context_with_model: graph splits (measure): 1\n",
      "AVX = 1 | AVX_VNNI = 0 | AVX2 = 1 | AVX512 = 0 | AVX512_VBMI = 0 | AVX512_VNNI = 0 | FMA = 1 | NEON = 0 | ARM_FMA = 0 | F16C = 1 | FP16_VA = 0 | WASM_SIMD = 0 | BLAS = 0 | SSE3 = 1 | SSSE3 = 1 | VSX = 0 | MATMUL_INT8 = 0 | \n",
      "Model metadata: {'tokenizer.ggml.unknown_token_id': '0', 'tokenizer.ggml.eos_token_id': '2', 'general.architecture': 'llama', 'llama.rope.freq_base': '10000.000000', 'llama.context_length': '32768', 'general.name': 'mistralai_mistral-7b-instruct-v0.1', 'llama.embedding_length': '4096', 'llama.feed_forward_length': '14336', 'llama.attention.layer_norm_rms_epsilon': '0.000010', 'llama.rope.dimension_count': '128', 'tokenizer.ggml.bos_token_id': '1', 'llama.attention.head_count': '32', 'llama.block_count': '32', 'llama.attention.head_count_kv': '8', 'general.quantization_version': '2', 'tokenizer.ggml.model': 'llama', 'general.file_type': '8'}\n",
      "Using fallback chat format: None\n",
      "\n",
      "llama_print_timings:        load time =  145146.89 ms\n",
      "llama_print_timings:      sample time =      81.14 ms /   203 runs   (    0.40 ms per token,  2501.88 tokens per second)\n",
      "llama_print_timings: prompt eval time =  145145.38 ms /  1780 tokens (   81.54 ms per token,    12.26 tokens per second)\n",
      "llama_print_timings:        eval time =   39598.78 ms /   202 runs   (  196.03 ms per token,     5.10 tokens per second)\n",
      "llama_print_timings:       total time =  185335.00 ms /  1982 tokens\n"
     ]
    },
    {
     "name": "stdout",
     "output_type": "stream",
     "text": [
      "{'input_documents': [<zmongo_retriever.Document object at 0x72e5d9bfc070>, <zmongo_retriever.Document object at 0x72e5d9bfc0d0>, <zmongo_retriever.Document object at 0x72e5d9bfc130>, <zmongo_retriever.Document object at 0x72e5d9bfc190>, <zmongo_retriever.Document object at 0x72e5d9bfc1f0>, <zmongo_retriever.Document object at 0x72e5d9bfc250>, <zmongo_retriever.Document object at 0x72e5d9bfc2b0>, <zmongo_retriever.Document object at 0x72e5d9bfc310>], 'output_text': ' - Craig Lamb appealed a final judgment of foreclosure.\\n   - The trial court erred in determining that Nationstar Mortgage, LLC had standing to bring a foreclosure action.\\n   - The court reviewed the sufficiency of the evidence to prove standing to bring a foreclosure action de novo.\\n   - The original note was specially indorsed to Aurora. \\n   - Nationstar failed to prove its standing through evidence of an assignment, proof of purchase of the debt or an affidavit of ownership proving its status as holder of the note.\\n   - The record lacks competent substantial evidence that the note was transferred by its indorsee or otherwise purchased or acquired by Nationstar.\\n   - The trial court erred in finding that Nationstar had standing to enforce the note. \\n   - The court reversed the final judgment of foreclosure and remanded for entry of an order of involuntary dismissal of the action.'}\n"
     ]
    }
   ],
   "source": [
    "prompt_template = \"\"\"Write a concise summary of the following text delimited by triple backquotes.\n",
    "              Return your response in bullet points which covers the key points of the text.\n",
    "              ```{text}```\n",
    "              BULLET POINT SUMMARY:\n",
    "  \"\"\"\n",
    "prompt = PromptTemplate(template=prompt_template, input_variables=[\"text\"])\n",
    "llm = LlamaCpp(\n",
    "    model_path=model_path,\n",
    "    max_tokens=0,\n",
    "    n_gpu_layers=-1,\n",
    "    n_ctx=4096,\n",
    "    n_batch=4096,\n",
    "    verbose=True,\n",
    "    f16_kv=True\n",
    ")\n",
    "stuff_chain = load_summarize_chain(llm, chain_type=\"stuff\", prompt=prompt)\n",
    "summary_chain_result = stuff_chain.invoke({'input_documents': documents_by_id[0]})\n",
    "print(summary_chain_result)"
   ]
  },
  {
   "cell_type": "code",
   "execution_count": null,
   "id": "9455d6a2e57e4c40",
   "metadata": {
    "collapsed": false
   },
   "outputs": [],
   "source": []
  }
 ],
 "metadata": {
  "kernelspec": {
   "display_name": "Python 3 (ipykernel)",
   "language": "python",
   "name": "python3"
  },
  "language_info": {
   "codemirror_mode": {
    "name": "ipython",
    "version": 3
   },
   "file_extension": ".py",
   "mimetype": "text/x-python",
   "name": "python",
   "nbconvert_exporter": "python",
   "pygments_lexer": "ipython3",
   "version": "3.10.12"
  }
 },
 "nbformat": 4,
 "nbformat_minor": 5
}
