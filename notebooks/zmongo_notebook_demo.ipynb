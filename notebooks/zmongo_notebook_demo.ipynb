{
 "cells": [
  {
   "cell_type": "markdown",
   "id": "cfb71e56",
   "metadata": {},
   "source": [
    "# 📘 ZMongo Usage Demo\n",
    "\n",
    "This notebook demonstrates how to use the ZMongo async MongoDB utility."
   ]
  },
  {
   "cell_type": "code",
   "id": "9f146ae2",
   "metadata": {
    "ExecuteTime": {
     "end_time": "2025-04-04T14:15:30.485191Z",
     "start_time": "2025-04-04T14:15:30.473894Z"
    }
   },
   "source": [
    "import nest_asyncio\n",
    "import asyncio\n",
    "from zmongo_retriever.zmongo_toolbag.zmongo import ZMongo\n",
    "\n",
    "nest_asyncio.apply()\n",
    "\n",
    "zmongo = ZMongo()\n",
    "collection_name = \"test_collection\"\n",
    "query = {\"123_key\": \"test_value\"}\n",
    "\n",
    "async def main():\n",
    "    # Insert the document\n",
    "    await zmongo.insert_document(collection=collection_name, document=query)\n",
    "\n",
    "    # Then retrieve it\n",
    "    doc = await zmongo.find_document(collection=collection_name, query=query)\n",
    "    print(\"Retrieved Document:\", doc)\n",
    "\n",
    "asyncio.run(main())\n"
   ],
   "outputs": [
    {
     "name": "stdout",
     "output_type": "stream",
     "text": [
      "Retrieved Document: {'_id': {'$oid': '67efe9824c71a515573e026c'}, '123_key': 'test_value'}\n"
     ]
    }
   ],
   "execution_count": 3
  }
 ],
 "metadata": {
  "kernelspec": {
   "name": "python3",
   "language": "python",
   "display_name": "Python 3 (ipykernel)"
  }
 },
 "nbformat": 4,
 "nbformat_minor": 5
}
