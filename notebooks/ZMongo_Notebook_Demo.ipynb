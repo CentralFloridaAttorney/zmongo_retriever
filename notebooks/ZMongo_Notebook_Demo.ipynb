{
 "cells": [
  {
   "cell_type": "markdown",
   "id": "cfb71e56",
   "metadata": {},
   "source": [
    "# 📘 ZMongo Usage Demo\n",
    "\n",
    "This notebook demonstrates how to use the ZMongo async MongoDB utility."
   ]
  },
  {
   "cell_type": "code",
   "id": "9f146ae2",
   "metadata": {
    "ExecuteTime": {
     "end_time": "2025-04-01T20:19:58.561945Z",
     "start_time": "2025-04-01T20:19:58.552330Z"
    }
   },
   "source": [
    "import nest_asyncio\n",
    "import asyncio\n",
    "from zmongo_toolbag.zmongo import ZMongo\n",
    "\n",
    "# Apply patch for nested event loops (e.g., Jupyter)\n",
    "nest_asyncio.apply()\n",
    "\n",
    "zmongo = ZMongo()\n",
    "collection_name = \"test_collection\"\n",
    "query = {\"test_key\": \"test_value\"}\n",
    "\n",
    "async def main():\n",
    "    # Insert the document\n",
    "    await zmongo.insert_document(collection=collection_name, document=query)\n",
    "\n",
    "    # Then retrieve it\n",
    "    doc = await zmongo.find_document(collection=collection_name, query=query)\n",
    "    print(\"Retrieved Document:\", doc)\n",
    "\n",
    "asyncio.run(main())\n"
   ],
   "outputs": [
    {
     "name": "stdout",
     "output_type": "stream",
     "text": [
      "Retrieved Document: {'_id': {'$oid': '67ec4a6e0599c6bde18b515a'}, 'test_key': 'test_value'}\n"
     ]
    }
   ],
   "execution_count": 10
  }
 ],
 "metadata": {
  "kernelspec": {
   "name": "python3",
   "language": "python",
   "display_name": "Python 3 (ipykernel)"
  }
 },
 "nbformat": 4,
 "nbformat_minor": 5
}
